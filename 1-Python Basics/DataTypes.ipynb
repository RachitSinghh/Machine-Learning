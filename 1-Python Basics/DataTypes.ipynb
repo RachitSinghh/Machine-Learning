{
 "cells": [
  {
   "cell_type": "markdown",
   "metadata": {},
   "source": [
    "# DataTypes\n",
    "\n",
    "1. Introduction to data types \n",
    "2. Importance of data types in programming\n",
    "3. Basic Data types \n",
    "    - Integers\n",
    "    - floating-point numbers\n",
    "    - Strings \n",
    "    - Booleans\n",
    "\n",
    "4. Advanced Data Types \n",
    "    - Lists \n",
    "    - Tuples \n",
    "    - Sets\n",
    "    - Dictionaries\n",
    "\n",
    "5. Type Conversion"
   ]
  },
  {
   "cell_type": "markdown",
   "metadata": {},
   "source": [
    "### 1. Defination\n",
    "- Data types are a classification of data which tell the compiler or interpreter how the programmer intends to used the data. \n",
    "- They determine the type of operations that can be performed on the data, the values that the data can take, and the amount of memory needed to store the data. \n",
    "\n",
    "### 2. Importance of Data Types in Programming\n",
    "\n",
    "Explaination:\n",
    "- Data types ensure that data is stored in an efficient way. \n",
    "- They help in programming correct operations on data. \n",
    "- Proper use of data types can prevent errors and bugs in the program. "
   ]
  },
  {
   "cell_type": "code",
   "execution_count": 2,
   "metadata": {},
   "outputs": [
    {
     "name": "stdout",
     "output_type": "stream",
     "text": [
      "<class 'int'>\n"
     ]
    }
   ],
   "source": [
    "## Integers \n",
    "age = 34\n",
    "print(type(age))"
   ]
  },
  {
   "cell_type": "code",
   "execution_count": null,
   "metadata": {},
   "outputs": [
    {
     "name": "stdout",
     "output_type": "stream",
     "text": [
      "5.11\n",
      "<class 'float'>\n"
     ]
    }
   ],
   "source": [
    "##floating point datatype\n",
    "\n",
    "height = 5.11\n",
    "print(height)\n",
    "print(type(height))"
   ]
  },
  {
   "cell_type": "code",
   "execution_count": 4,
   "metadata": {},
   "outputs": [
    {
     "name": "stdout",
     "output_type": "stream",
     "text": [
      "Rachit\n",
      "<class 'str'>\n"
     ]
    }
   ],
   "source": [
    "## String datatype example \n",
    "name = \"Rachit\"\n",
    "print(name)\n",
    "print(type(name))"
   ]
  },
  {
   "cell_type": "code",
   "execution_count": 7,
   "metadata": {},
   "outputs": [
    {
     "name": "stdout",
     "output_type": "stream",
     "text": [
      "<class 'bool'>\n"
     ]
    }
   ],
   "source": [
    "## boolean \n",
    "is_true = True\n",
    "print(type(is_true))"
   ]
  },
  {
   "cell_type": "code",
   "execution_count": 9,
   "metadata": {},
   "outputs": [
    {
     "name": "stdout",
     "output_type": "stream",
     "text": [
      "Hello5\n"
     ]
    }
   ],
   "source": [
    "## common errors \n",
    "\n",
    "result = \"Hello\" + str(5)\n",
    "print(result)\n"
   ]
  },
  {
   "cell_type": "code",
   "execution_count": null,
   "metadata": {},
   "outputs": [],
   "source": [
    "str = \"Hello\""
   ]
  }
 ],
 "metadata": {
  "kernelspec": {
   "display_name": "Python 3",
   "language": "python",
   "name": "python3"
  },
  "language_info": {
   "codemirror_mode": {
    "name": "ipython",
    "version": 3
   },
   "file_extension": ".py",
   "mimetype": "text/x-python",
   "name": "python",
   "nbconvert_exporter": "python",
   "pygments_lexer": "ipython3",
   "version": "3.12.0"
  }
 },
 "nbformat": 4,
 "nbformat_minor": 2
}
