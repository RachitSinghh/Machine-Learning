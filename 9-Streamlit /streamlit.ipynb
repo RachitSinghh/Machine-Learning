{
 "cells": [
  {
   "cell_type": "markdown",
   "metadata": {},
   "source": [
    "# Introduction to streamlit\n",
    "\n",
    "Streamlit is an open-source app framework for Machine learning and Data Science projects. it allows you to create beautiful web application for machine learning and data science project with simple python scripts"
   ]
  }
 ],
 "metadata": {
  "language_info": {
   "name": "python"
  }
 },
 "nbformat": 4,
 "nbformat_minor": 2
}
