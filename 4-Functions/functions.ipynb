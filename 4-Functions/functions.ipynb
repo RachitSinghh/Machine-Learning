{
 "cells": [
  {
   "cell_type": "markdown",
   "metadata": {},
   "source": [
    "# Functions \n",
    "\n",
    "1. Introduction to functions\n",
    "2. Defining Functions \n",
    "3. Calling Functions\n",
    "4. Functions Parameters\n",
    "5. Default Parameters\n",
    "6. Variable-Length Arguements\n",
    "7. Return Statment\n",
    "\n",
    "\n",
    "## Introduction to Functions\n",
    "\n",
    "Definition:\n",
    "\n",
    "A functions is a block of code that perform a specific task. Functions help in orgainizing code, resuing code, and improving readability. "
   ]
  },
  {
   "cell_type": "code",
   "execution_count": null,
   "metadata": {},
   "outputs": [
    {
     "name": "stdout",
     "output_type": "stream",
     "text": [
      "The number is Even\n"
     ]
    }
   ],
   "source": [
    "## Why functions? \n",
    "## Because every way we can wrtie the code, we need to reuse this kind of code.\n",
    "num = 24 \n",
    "\n",
    "if num%2==0:\n",
    "    print(\"The number is Even\")\n",
    "else: \n",
    "    print(\"the number is odd\")"
   ]
  },
  {
   "cell_type": "code",
   "execution_count": null,
   "metadata": {},
   "outputs": [],
   "source": [
    "def even_or_odd(num):\n",
    "    \"\"\"This function finds even or odd\"\"\"\n",
    "    if num%2==0:\n",
    "        print(\"The number is even\")\n",
    "    else:\n",
    "        print(\"The number is odd\")\n",
    "\n",
    "## simple way of creating a function and calling a function\n"
   ]
  },
  {
   "cell_type": "code",
   "execution_count": null,
   "metadata": {},
   "outputs": [
    {
     "name": "stdout",
     "output_type": "stream",
     "text": [
      "The number is odd\n",
      "The number is odd\n",
      "The number is even\n",
      "The number is even\n"
     ]
    }
   ],
   "source": [
    "# call this function \n",
    "even_or_odd(5)\n",
    "even_or_odd(3)\n",
    "even_or_odd(2)\n",
    "even_or_odd(6)\n",
    "## "
   ]
  },
  {
   "cell_type": "code",
   "execution_count": 12,
   "metadata": {},
   "outputs": [],
   "source": [
    "## function with multiple parameter\n",
    "\n",
    "def add(a,b):\n",
    "    \"\"\"\"\"\"\n",
    "    return a+b"
   ]
  },
  {
   "cell_type": "code",
   "execution_count": 14,
   "metadata": {},
   "outputs": [
    {
     "data": {
      "text/plain": [
       "35"
      ]
     },
     "execution_count": 14,
     "metadata": {},
     "output_type": "execute_result"
    }
   ],
   "source": [
    "add(15,20)"
   ]
  },
  {
   "cell_type": "code",
   "execution_count": 16,
   "metadata": {},
   "outputs": [
    {
     "name": "stdout",
     "output_type": "stream",
     "text": [
      "Hello Rachit Welcome to code with python \n"
     ]
    }
   ],
   "source": [
    "## Default parameters\n",
    "def greet(name):\n",
    "    print(f\"Hello {name} Welcome to code with python \")\n",
    "\n",
    "greet(\"Rachit\")"
   ]
  },
  {
   "cell_type": "code",
   "execution_count": null,
   "metadata": {},
   "outputs": [],
   "source": [
    "## Variable length Arguements\n",
    "## Positional and Keywords arguements\n",
    "\n",
    "\n",
    "# Positional arguements\n",
    "def print_numbers(*args):\n",
    "    for number in args:\n",
    "        print(number)"
   ]
  },
  {
   "cell_type": "code",
   "execution_count": null,
   "metadata": {},
   "outputs": [
    {
     "name": "stdout",
     "output_type": "stream",
     "text": [
      "1\n",
      "2\n",
      "3\n",
      "4\n",
      "5\n",
      "6\n",
      "7\n",
      "8\n",
      "Rachit\n",
      "Singh\n"
     ]
    }
   ],
   "source": [
    "print_numbers(1,2,3,4,5,6,7,8,\"Rachit\", \"Singh\")\n",
    "# *args is basically refering to all the positional arguements\n"
   ]
  },
  {
   "cell_type": "code",
   "execution_count": 19,
   "metadata": {},
   "outputs": [],
   "source": [
    "## Keywords arguments\n",
    "def print_details(**kwargs): # kwargs = keywords arugments\n",
    "    \"\"\"\n",
    "    In keyword arguements all the paramenters will be in the form of key value \n",
    "    pairs arguments. \n",
    "    \"\"\"\n",
    "    for key,value in kwargs.items():\n",
    "        print(f\"{key}:{value}\")\n"
   ]
  },
  {
   "cell_type": "code",
   "execution_count": 20,
   "metadata": {},
   "outputs": [
    {
     "name": "stdout",
     "output_type": "stream",
     "text": [
      "name:Rachit\n",
      "age:24\n",
      "country:India\n"
     ]
    }
   ],
   "source": [
    "print_details(name=\"Rachit\", age=24, country=\"India\")"
   ]
  },
  {
   "cell_type": "code",
   "execution_count": 21,
   "metadata": {},
   "outputs": [],
   "source": [
    "def print_details(*args,**kwargs):\n",
    "    for val in args:\n",
    "        print(f\"postional arguments: {val}\")\n",
    "\n",
    "    for key,value in kwargs.items():\n",
    "        print(f\"{key}:{value}\")"
   ]
  },
  {
   "cell_type": "code",
   "execution_count": 22,
   "metadata": {},
   "outputs": [
    {
     "name": "stdout",
     "output_type": "stream",
     "text": [
      "postional arguments: 1\n",
      "postional arguments: 2\n",
      "postional arguments: 3\n",
      "postional arguments: 4\n",
      "postional arguments: singh\n",
      "name:Rachit\n",
      "age:24\n",
      "country:India\n"
     ]
    }
   ],
   "source": [
    "print_details(1,2,3,4,\"singh\",name=\"Rachit\", age=24, country=\"India\",)"
   ]
  },
  {
   "cell_type": "code",
   "execution_count": 23,
   "metadata": {},
   "outputs": [
    {
     "data": {
      "text/plain": [
       "8"
      ]
     },
     "execution_count": 23,
     "metadata": {},
     "output_type": "execute_result"
    }
   ],
   "source": [
    "### Return statments\n",
    "def multiple(a,b):\n",
    "    return a*b\n",
    "\n",
    "multiple(2,4)"
   ]
  },
  {
   "cell_type": "code",
   "execution_count": null,
   "metadata": {},
   "outputs": [
    {
     "data": {
      "text/plain": [
       "(8, 2)"
      ]
     },
     "execution_count": 24,
     "metadata": {},
     "output_type": "execute_result"
    }
   ],
   "source": [
    "## Return multiple statement\n",
    "def multiple(a,b):\n",
    "    return a*b,a\n",
    "\n",
    "multiple(2,4)"
   ]
  }
 ],
 "metadata": {
  "kernelspec": {
   "display_name": "Python 3",
   "language": "python",
   "name": "python3"
  },
  "language_info": {
   "codemirror_mode": {
    "name": "ipython",
    "version": 3
   },
   "file_extension": ".py",
   "mimetype": "text/x-python",
   "name": "python",
   "nbconvert_exporter": "python",
   "pygments_lexer": "ipython3",
   "version": "3.12.7"
  }
 },
 "nbformat": 4,
 "nbformat_minor": 2
}
