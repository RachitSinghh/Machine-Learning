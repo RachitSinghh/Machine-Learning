{
 "cells": [
  {
   "cell_type": "markdown",
   "metadata": {},
   "source": [
    "## Inheritance in Python\n",
    "\n",
    "Inheritance is a fundamental concept in Oject-Oriented Programming (OOP) that allows a class to inherit attributes and methods from another class. The lesson covers single inheritance and multiple demonstrating how to create and use them in Python"
   ]
  },
  {
   "cell_type": "code",
   "execution_count": null,
   "metadata": {},
   "outputs": [],
   "source": [
    "## Inheritance\n",
    "## Parent Class\n",
    "\n",
    "class Car:\n",
    "    def __init__(self, windows, doors, enginetype):\n",
    "        self.windows = windows\n",
    "        self.doors = doors\n",
    "        self.enginetype = enginetype\n",
    "\n",
    "    def drive(self):\n",
    "        print(f\"The Person will drive the {self.enginetype} car\")"
   ]
  },
  {
   "cell_type": "code",
   "execution_count": 18,
   "metadata": {},
   "outputs": [
    {
     "name": "stdout",
     "output_type": "stream",
     "text": [
      "The Person will drive the Petrol car\n"
     ]
    }
   ],
   "source": [
    "car1 = Car(4,5,\"Petrol\")\n",
    "car1.drive()\n"
   ]
  },
  {
   "cell_type": "code",
   "execution_count": 19,
   "metadata": {},
   "outputs": [],
   "source": [
    "class Tesla(Car):\n",
    "    def __init__(self, windows, doors, enginetype,is_selfDriving):\n",
    "        super().__init__(windows,doors,enginetype) # we are calling this init method from the car class\n",
    "        self.is_selfDriving = is_selfDriving\n",
    "\n",
    "    def selfDriving(self):\n",
    "        print(f\"Tesla supports self Driving {self.is_selfDriving}\")"
   ]
  },
  {
   "cell_type": "code",
   "execution_count": 20,
   "metadata": {},
   "outputs": [
    {
     "name": "stdout",
     "output_type": "stream",
     "text": [
      "Tesla supports self Driving True\n",
      "The Person will drive the Electrice car\n"
     ]
    }
   ],
   "source": [
    "tesla1 = Tesla(4,5,\"Electrice\",True)\n",
    "tesla1.selfDriving()\n",
    "tesla1.drive()"
   ]
  },
  {
   "cell_type": "code",
   "execution_count": 24,
   "metadata": {},
   "outputs": [
    {
     "name": "stdout",
     "output_type": "stream",
     "text": [
      "Silky owner is Rachit \n",
      "Silky says woof!!\n",
      "Laira's owner is Hridaya\n",
      "Laira says meow!!!\n"
     ]
    }
   ],
   "source": [
    "### Multiple Inheritance\n",
    "## when a class Inherits from more than one base class.\n",
    "## Base class 1\n",
    "class Animal:\n",
    "    def __init__(self,name):\n",
    "        self.name = name\n",
    "\n",
    "    def speak(self):\n",
    "        print(\"Subclass must implement this methods\")\n",
    "\n",
    "## Base Class 2 \n",
    "class Pet:\n",
    "    def __init__(self,owner):\n",
    "        self.owner = owner\n",
    "\n",
    "\n",
    "## Derived Class\n",
    "class Dog(Animal, Pet):\n",
    "    def __init__(self, name, owner):\n",
    "        Animal.__init__(self,name)\n",
    "        Pet.__init__(self,owner)\n",
    "    \n",
    "    def speak(self):\n",
    "        return f\"{self.name} says woof!!\"\n",
    "    \n",
    "class Cat(Animal,Pet):\n",
    "    def __init__(self, name, owner):\n",
    "        Animal.__init__(self,name)\n",
    "        Pet.__init__(self,owner)\n",
    "    \n",
    "    def speak(self):\n",
    "        return f\"{self.name} says meow!!!\"\n",
    "\n",
    "## create an Object\n",
    "\n",
    "dog = Dog(\"Silky\", \"Rachit\")\n",
    "print(f\"{dog.name} owner is {dog.owner} \")\n",
    "print(dog.speak())\n",
    "\n",
    "cat = Cat(\"Laira\",\"Hridaya\")\n",
    "print(f\"{cat.name}'s owner is {cat.owner}\")\n",
    "print(cat.speak())"
   ]
  }
 ],
 "metadata": {
  "kernelspec": {
   "display_name": "Python 3",
   "language": "python",
   "name": "python3"
  },
  "language_info": {
   "codemirror_mode": {
    "name": "ipython",
    "version": 3
   },
   "file_extension": ".py",
   "mimetype": "text/x-python",
   "name": "python",
   "nbconvert_exporter": "python",
   "pygments_lexer": "ipython3",
   "version": "3.12.7"
  }
 },
 "nbformat": 4,
 "nbformat_minor": 2
}
