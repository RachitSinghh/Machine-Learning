{
 "cells": [
  {
   "cell_type": "code",
   "execution_count": 1,
   "metadata": {},
   "outputs": [
    {
     "name": "stdout",
     "output_type": "stream",
     "text": [
      "2.2.1\n"
     ]
    }
   ],
   "source": [
    "import numpy as np\n",
    "print(np.__version__)"
   ]
  },
  {
   "cell_type": "code",
   "execution_count": 2,
   "metadata": {},
   "outputs": [
    {
     "name": "stdout",
     "output_type": "stream",
     "text": [
      "[0 1 2 3 4 5 6 7 8 9]\n"
     ]
    }
   ],
   "source": [
    "# How to create a 1D array?\n",
    "# Qs. Create a 1D array of number from 0 to 9\n",
    "# output : #> array([0,1,2,3,4,5,6,7,8,9])\\\n",
    "\n",
    "x = np.arange(10)\n",
    "print(x)"
   ]
  },
  {
   "cell_type": "code",
   "execution_count": 3,
   "metadata": {},
   "outputs": [
    {
     "name": "stdout",
     "output_type": "stream",
     "text": [
      "[[ True  True  True]\n",
      " [ True  True  True]\n",
      " [ True  True  True]]\n"
     ]
    }
   ],
   "source": [
    "# Question: Create a 3*3 numpy array of all True'set\n",
    "\n",
    "# solution \n",
    "one = np.full((3,3), True, dtype=bool)\n",
    "print(one)\n",
    "\n",
    "# or\n",
    "two = np.full((9), True, dtype=bool).reshape(3,3)\n",
    "# print(two)\n",
    "# or \n",
    "three = np.ones((3,3), dtype=bool)\n",
    "# print(three)\n",
    "# or \n",
    "\n",
    "four = np.ones((9), dtype=bool).reshape(3,3)\n",
    "# print(four)"
   ]
  },
  {
   "cell_type": "markdown",
   "metadata": {},
   "source": [
    "## How to Extract items that statisfy a given condition from 1D array?"
   ]
  },
  {
   "cell_type": "code",
   "execution_count": 4,
   "metadata": {},
   "outputs": [
    {
     "name": "stdout",
     "output_type": "stream",
     "text": [
      "Odd numbers from the array:  [1 3 5 7 9]\n",
      "Even numbers from the array [0 2 4 6 8]\n"
     ]
    }
   ],
   "source": [
    "# Qs. Extract all odd numbers, and even numbers from array \n",
    "# input: arr = np.array([0,1,2,3,4,5,6,7,8,9])\n",
    "# output: array([1,3,4,5,7,9])\n",
    "\n",
    "arr = np.arange(10)\n",
    "\n",
    "print(\"Odd numbers from the array: \",arr[arr%2 == 1])\n",
    "print(\"Even numbers from the array\", arr[arr%2 == 0])"
   ]
  },
  {
   "cell_type": "markdown",
   "metadata": {},
   "source": [
    "## How to replace items that statisfy a condition with another value in numpy array?"
   ]
  },
  {
   "cell_type": "code",
   "execution_count": 5,
   "metadata": {},
   "outputs": [
    {
     "data": {
      "text/plain": [
       "array([ 0, -1,  2, -1,  4, -1,  6, -1,  8, -1])"
      ]
     },
     "execution_count": 5,
     "metadata": {},
     "output_type": "execute_result"
    }
   ],
   "source": [
    "# Qs. Replace all odd numbers in arr with -1\n",
    "# input arr = np.array([0,1,2,3,4,5,6,7,9])\n",
    "# output: arr([0,-1,2,-1,4,-1,6,-1,8,-1])\n",
    "\n",
    "# solution\n",
    "\n",
    "arr = np.arange(10)\n",
    "\n",
    "arr[arr%2 == 1] = -1\n",
    "arr"
   ]
  },
  {
   "cell_type": "markdown",
   "metadata": {},
   "source": [
    "## How to replace items that satify a condition without affecting the original array"
   ]
  },
  {
   "cell_type": "code",
   "execution_count": 6,
   "metadata": {},
   "outputs": [
    {
     "name": "stdout",
     "output_type": "stream",
     "text": [
      "Mofied Array:  [ 0 -1  2 -1  4 -1  6 -1  8 -1]\n",
      "Orignal Array [0 1 2 3 4 5 6 7 8 9]\n"
     ]
    }
   ],
   "source": [
    "# Qs: Replace all odd numbers in arr with -1 without changing arr\n",
    "# input: arr = np.array([0,1,2,3,4,5,6,7,8,9])\n",
    "# output : 0ut \n",
    "# Mofied Array:  [ 0 -1  2 -1  4 -1  6 -1  8 -1]\n",
    "# Orignal Array [0 1 2 3 4 5 6 7 8 9]\n",
    "\n",
    "arr = np.arange(10)\n",
    "out = arr.copy()\n",
    "\n",
    "out[out%2 == 1] = -1\n",
    "\n",
    "print('Mofied Array: ', out)\n",
    "\n",
    "print(\"Orignal Array\", arr)"
   ]
  },
  {
   "cell_type": "markdown",
   "metadata": {},
   "source": [
    "## HOW TO RESHAPE ARRAY"
   ]
  },
  {
   "cell_type": "code",
   "execution_count": 7,
   "metadata": {},
   "outputs": [
    {
     "name": "stdout",
     "output_type": "stream",
     "text": [
      "[[0 1 2 3 4]\n",
      " [5 6 7 8 9]]\n",
      "[[0 1 2 3 4]\n",
      " [5 6 7 8 9]]\n"
     ]
    }
   ],
   "source": [
    "# Question: Convert a 1D array to a 2d array with 2 rows\n",
    "# input: np.arange(10)\n",
    "# output array([0,1,2,3,4],\n",
    "#              [5,6,7,8,9])\n",
    "\n",
    "# solution\n",
    "arr = np.arange(10)\n",
    "print(arr.reshape(2,5))\n",
    "\n",
    "# another solution\n",
    "arr = np.arange(10)\n",
    "print(arr.reshape(2,-1)) # setting -1 automatically decides the number of cols"
   ]
  },
  {
   "cell_type": "markdown",
   "metadata": {},
   "source": [
    "## HOw to stack two arrays vertically? "
   ]
  },
  {
   "cell_type": "code",
   "execution_count": 8,
   "metadata": {},
   "outputs": [
    {
     "data": {
      "text/plain": [
       "array([[0, 1, 2, 3, 4],\n",
       "       [5, 6, 7, 8, 9],\n",
       "       [1, 1, 1, 1, 1],\n",
       "       [1, 1, 1, 1, 1]])"
      ]
     },
     "execution_count": 8,
     "metadata": {},
     "output_type": "execute_result"
    }
   ],
   "source": [
    "## Question: Stack array a and b vertically\n",
    "# input: a = np.arange(10).reshae(2,-1)\n",
    "#        b = np.repeat(1,10).reshape(2,-1)\n",
    "\n",
    "# ouput: array([[0,1,2,3,4],\n",
    "#               [5,6,7,8,9],\n",
    "#               [1,1,1,1,1],\n",
    "#               [1,1,1,1,1]]) \n",
    "\n",
    "a = np.arange(10).reshape(2,-1)\n",
    "b = np.repeat(1,10).reshape(2,-1)\n",
    "\n",
    "np.vstack([a,b])"
   ]
  },
  {
   "cell_type": "markdown",
   "metadata": {},
   "source": [
    "## How to stack two arrays horizontally"
   ]
  },
  {
   "cell_type": "code",
   "execution_count": 9,
   "metadata": {},
   "outputs": [
    {
     "data": {
      "text/plain": [
       "array([[0, 1, 2, 3, 4, 1, 1, 1, 1, 1],\n",
       "       [5, 6, 7, 8, 9, 1, 1, 1, 1, 1]])"
      ]
     },
     "execution_count": 9,
     "metadata": {},
     "output_type": "execute_result"
    }
   ],
   "source": [
    "# Question: Stack the arrays aa nd b horizontally\n",
    "\n",
    "#Input: a = np.arange(10).reshape(2,-1)\n",
    "#       b = np.repeat(1,10).reshape(2,-1)\n",
    "# Output: array([0,1,2,3,4,1,1,1,1,1],\n",
    "#               [5,6,7,8,9,1,1,1,1,1])\n",
    "\n",
    "# solution \n",
    "a = np.arange(10).reshape(2,-1)\n",
    "b = np.repeat(1,10).reshape(2,-1)\n",
    "\n",
    "np.hstack([a,b])"
   ]
  },
  {
   "cell_type": "markdown",
   "metadata": {},
   "source": [
    "## How to geenrate custom Sequence in numpy without hardcoding"
   ]
  },
  {
   "cell_type": "code",
   "execution_count": 10,
   "metadata": {},
   "outputs": [
    {
     "data": {
      "text/plain": [
       "array([1, 1, 1, 2, 2, 2, 3, 3, 3, 1, 2, 3, 1, 2, 3, 1, 2, 3])"
      ]
     },
     "execution_count": 10,
     "metadata": {},
     "output_type": "execute_result"
    }
   ],
   "source": [
    "# Question: Create a following patter without hardcoding. Use only numpy fucntions and the below input array a\n",
    "# Input: a = np.array([1,2,3])\n",
    "# Output: array([1, 1, 1, 2, 2, 2, 3, 3, 3, 1, 2, 3, 1, 2, 3, 1, 2, 3])\n",
    "\n",
    "# solution \n",
    "a = np.array([1,2,3])\n",
    "np.r_[np.repeat(a,3), np.tile(a,3)] # r_ is a convenience function for concatenating arrays along the first axis\n",
    "\n",
    "# np.repeat(a,3): [1, 1, 1, 2, 2, 2, 3, 3, 3]\n",
    "# np.title(a,3): [1, 2, 3, 1, 2, 3, 1, 2, 3]\n",
    "# concatenated result =  [1, 1, 1, 2, 2, 2, 3, 3, 3, 1, 2, 3, 1, 2, 3, 1, 2, 3]\n"
   ]
  },
  {
   "cell_type": "markdown",
   "metadata": {},
   "source": [
    "## 11. How to get the common items between two python numpy arrays?"
   ]
  },
  {
   "cell_type": "code",
   "execution_count": null,
   "metadata": {},
   "outputs": [],
   "source": []
  },
  {
   "cell_type": "code",
   "execution_count": 11,
   "metadata": {},
   "outputs": [
    {
     "data": {
      "text/plain": [
       "array([2, 4])"
      ]
     },
     "execution_count": 11,
     "metadata": {},
     "output_type": "execute_result"
    }
   ],
   "source": [
    "# Question: Get the common items between a and b\n",
    "\n",
    "# Input: a = np.array([1,2,3,2,3,4,3,4,5,6])\n",
    "#        b = np.array([7,2,10,2,7,4,9,4,9,8])\n",
    "\n",
    "# Output: array([2, 4])\n",
    "\n",
    "a = np.array([1,2,3,2,3,4,3,4,5,6])\n",
    "b = np.array([7,2,10,2,7,4,9,4,9,8])\n",
    "\n",
    "np.intersect1d(a,b)\n"
   ]
  },
  {
   "cell_type": "markdown",
   "metadata": {},
   "source": [
    "## 12. How to remove from one array those items that exist in another? "
   ]
  },
  {
   "cell_type": "code",
   "execution_count": 12,
   "metadata": {},
   "outputs": [
    {
     "data": {
      "text/plain": [
       "array([6, 7, 8, 9])"
      ]
     },
     "execution_count": 12,
     "metadata": {},
     "output_type": "execute_result"
    }
   ],
   "source": [
    "# Question: From array a remove all items present in array b\n",
    "\n",
    "# Input: a = np.array([1,2,3,4,5])\n",
    "#        b = np.array([5,6,7,8,9])\n",
    "\n",
    "# Output: array([1,2,3,4])\n",
    "\n",
    "\n",
    "# Solution\n",
    "\n",
    "a = np.array([1,2,3,4,5])\n",
    "b = np.array([5,6,7,8,9])\n",
    "np.setdiff1d(b,a)"
   ]
  },
  {
   "cell_type": "markdown",
   "metadata": {},
   "source": [
    "## 13. How to get the positions where elements of two arrays match? "
   ]
  },
  {
   "cell_type": "code",
   "execution_count": null,
   "metadata": {},
   "outputs": [],
   "source": []
  },
  {
   "cell_type": "code",
   "execution_count": 13,
   "metadata": {},
   "outputs": [
    {
     "data": {
      "text/plain": [
       "(array([1, 3, 5, 7]),)"
      ]
     },
     "execution_count": 13,
     "metadata": {},
     "output_type": "execute_result"
    }
   ],
   "source": [
    "# Question: get the positions where elements of a and b match\n",
    "# Input: a = np.array([1,2,3,2,3,4,3,4,5,6])\n",
    "#        b = np.array([7,2,10,2,7,4,9,4,9,8])\n",
    "\n",
    "# Output: (array([1, 3, 5, 7]),)\n",
    "\n",
    "\n",
    "# Solution\n",
    "a = np.array([1,2,3,2,3,4,3,4,5,6])\n",
    "b = np.array([7,2,10,2,7,4,9,4,9,8])\n",
    "np.where(a == b)"
   ]
  },
  {
   "cell_type": "markdown",
   "metadata": {},
   "source": [
    "## 14. How to extract all numbers between a given range from a numpy array? "
   ]
  },
  {
   "cell_type": "code",
   "execution_count": 14,
   "metadata": {},
   "outputs": [
    {
     "data": {
      "text/plain": [
       "array([ 6,  9, 10])"
      ]
     },
     "execution_count": 14,
     "metadata": {},
     "output_type": "execute_result"
    }
   ],
   "source": [
    "# Question: Get all items between 5 and 10 from a.\n",
    "\n",
    "# Input: a = np.array([2, 6, 1, 9, 10, 3, 27])\n",
    "# Output: (array([6, 9, 10]),)\n",
    "\n",
    "\n",
    "# Solution\n",
    "\n",
    "a = np.array([2,6,1,9,10,3,27])\n",
    "a[(a >= 5) & (a <= 10)]"
   ]
  },
  {
   "cell_type": "markdown",
   "metadata": {},
   "source": [
    "## 15.How to make a python function that handles scalers to work on numpy arrays?"
   ]
  },
  {
   "cell_type": "code",
   "execution_count": null,
   "metadata": {},
   "outputs": [],
   "source": []
  },
  {
   "cell_type": "code",
   "execution_count": 15,
   "metadata": {},
   "outputs": [
    {
     "data": {
      "text/plain": [
       "array([6, 7, 9, 8, 9, 7, 5])"
      ]
     },
     "execution_count": 15,
     "metadata": {},
     "output_type": "execute_result"
    }
   ],
   "source": [
    "# Question: Convert the function maxx that works on two scalers, to work on two arrays. \n",
    "\n",
    "# Input: \n",
    "def maxx(x,y):\n",
    "    \"\"\"Get the maximum of two items\"\"\"\n",
    "    if x >= y: \n",
    "        return x\n",
    "    else: \n",
    "        return y\n",
    "# maxx(1,5)\n",
    "# > 5 \n",
    "# Output:\n",
    "# a = np.array([5, 7, 9, 8, 6, 4, 5])\n",
    "# b = np.array([6, 3, 4, 8, 9, 7, 1])\n",
    "# pair_max(a, b)\n",
    "# array([ 6.,  7.,  9.,  8.,  9.,  7.,  5.])\n",
    "\n",
    "# Solution\n",
    "def pair_max(x,y):\n",
    "    # Here  i am using map to make tuple from a and b, other solution is using zip(a,b)\n",
    "    maximum = [maxx(a,b) for a,b in map(lambda a,b:(a,b),x,y)]\n",
    "    # using zip\n",
    "    # maximum = [max(a,b) for a,b in zip(x,y)]\n",
    "    return np.array(maximum)\n",
    "\n",
    "a = np.array([5,7,9,8,6,4,5])\n",
    "b = np.array([6,3,4,8,9,7,1])\n",
    "\n",
    "pair_max(a,b)"
   ]
  },
  {
   "cell_type": "markdown",
   "metadata": {},
   "source": [
    "## 16. How to swap to columns in a 2d numpy array?"
   ]
  },
  {
   "cell_type": "code",
   "execution_count": 16,
   "metadata": {},
   "outputs": [
    {
     "name": "stdout",
     "output_type": "stream",
     "text": [
      "Orignal Array\n",
      "[[0 1 2]\n",
      " [3 4 5]\n",
      " [6 7 8]]\n",
      "\n",
      "Modified Array\n"
     ]
    },
    {
     "data": {
      "text/plain": [
       "array([[1, 0, 2],\n",
       "       [4, 3, 5],\n",
       "       [7, 6, 8]])"
      ]
     },
     "execution_count": 16,
     "metadata": {},
     "output_type": "execute_result"
    }
   ],
   "source": [
    "# Question: Swap columns 1 and 2 in the array arr.\n",
    "\n",
    "# Input:\n",
    "arr = np.arange(9).reshape(3,3)\n",
    "\n",
    "print('Orignal Array')\n",
    "print(arr)\n",
    "\n",
    "print(\"\\nModified Array\")\n",
    "arr[:, [1,0,2]]"
   ]
  },
  {
   "cell_type": "markdown",
   "metadata": {},
   "source": [
    "## 17. How to swap two rows in a 2d numpy array?"
   ]
  },
  {
   "cell_type": "code",
   "execution_count": 17,
   "metadata": {},
   "outputs": [
    {
     "name": "stdout",
     "output_type": "stream",
     "text": [
      "Original array\n",
      " [[0 1 2]\n",
      " [3 4 5]\n",
      " [6 7 8]]\n",
      "\n",
      "Modified Array\n"
     ]
    },
    {
     "data": {
      "text/plain": [
       "array([[6, 7, 8],\n",
       "       [3, 4, 5],\n",
       "       [0, 1, 2]])"
      ]
     },
     "execution_count": 17,
     "metadata": {},
     "output_type": "execute_result"
    }
   ],
   "source": [
    "# Question: Swap rows 1 and 2 in the array arr:\n",
    "\n",
    "# Input: \n",
    "\n",
    "arr = np.arange(9).reshape(3,3)\n",
    "print('Original array\\n',arr)\n",
    "\n",
    "\n",
    "# solution \n",
    "\n",
    "print(\"\\nModified Array\")\n",
    "arr[[2,1,0], :]"
   ]
  },
  {
   "cell_type": "markdown",
   "metadata": {},
   "source": [
    "## 18. How to reverse the rows of 2D array?"
   ]
  },
  {
   "cell_type": "code",
   "execution_count": 18,
   "metadata": {},
   "outputs": [
    {
     "name": "stdout",
     "output_type": "stream",
     "text": [
      "Original array\n",
      " [[0 1 2]\n",
      " [3 4 5]\n",
      " [6 7 8]]\n",
      "\n",
      "Modified array\n"
     ]
    },
    {
     "data": {
      "text/plain": [
       "array([[6, 7, 8],\n",
       "       [3, 4, 5],\n",
       "       [0, 1, 2]])"
      ]
     },
     "execution_count": 18,
     "metadata": {},
     "output_type": "execute_result"
    }
   ],
   "source": [
    "# Question: Reverse the rows of a 2D array arr.\n",
    "\n",
    "# Input:\n",
    "\n",
    "arr = np.arange(9).reshape(3,3)\n",
    "print('Original array\\n',arr)\n",
    "\n",
    "print(\"\\nModified array\")\n",
    "arr[::-1, :]\n"
   ]
  },
  {
   "cell_type": "markdown",
   "metadata": {},
   "source": [
    "## 19. HOw to reverse the column of a 2D array?"
   ]
  },
  {
   "cell_type": "code",
   "execution_count": 19,
   "metadata": {},
   "outputs": [
    {
     "name": "stdout",
     "output_type": "stream",
     "text": [
      "Orignal Array\n",
      " [[0 1 2]\n",
      " [3 4 5]\n",
      " [6 7 8]]\n",
      "\n",
      "Modified array\n"
     ]
    },
    {
     "data": {
      "text/plain": [
       "array([[2, 1, 0],\n",
       "       [5, 4, 3],\n",
       "       [8, 7, 6]])"
      ]
     },
     "execution_count": 19,
     "metadata": {},
     "output_type": "execute_result"
    }
   ],
   "source": [
    "# Question: Reverse the columns of a 2D array arr.\n",
    "\n",
    "# Input: arr = np.arange(9).reshape(3,3)\n",
    "\n",
    "# Solution\n",
    "\n",
    "arr = np.arange(9).reshape(3,3)\n",
    "print('Orignal Array\\n',arr)\n",
    "\n",
    "\n",
    "print(\"\\nModified array\")\n",
    "arr[:, ::-1]"
   ]
  },
  {
   "cell_type": "markdown",
   "metadata": {},
   "source": [
    "## 20. How to create a 2D array containing random floats between 5 and 10"
   ]
  },
  {
   "cell_type": "code",
   "execution_count": 20,
   "metadata": {},
   "outputs": [
    {
     "data": {
      "text/plain": [
       "array([[9.11929162, 6.90959253, 7.53527389],\n",
       "       [6.95914646, 8.65293237, 6.19004163],\n",
       "       [9.93066631, 8.77387848, 5.44296682],\n",
       "       [6.40760626, 7.83865263, 9.42172792],\n",
       "       [6.43256973, 9.92138133, 8.66456264]])"
      ]
     },
     "execution_count": 20,
     "metadata": {},
     "output_type": "execute_result"
    }
   ],
   "source": [
    "# Question: Create a 2D array of shape 5x3 to contain random decimal numbers between 5 and 10.\n",
    "\n",
    "# Solution:\n",
    "rand_arr = np.random.uniform(5,10, size=(5,3))\n",
    "rand_arr"
   ]
  },
  {
   "cell_type": "markdown",
   "metadata": {},
   "source": [
    "## 21. How to print only 3 decimal places in python numpy array?"
   ]
  },
  {
   "cell_type": "code",
   "execution_count": 21,
   "metadata": {},
   "outputs": [
    {
     "data": {
      "text/plain": [
       "array([[0.742, 0.168, 0.5  ],\n",
       "       [0.229, 0.998, 0.357],\n",
       "       [0.799, 0.372, 0.955],\n",
       "       [0.949, 0.732, 0.146],\n",
       "       [0.007, 0.8  , 0.984]])"
      ]
     },
     "execution_count": 21,
     "metadata": {},
     "output_type": "execute_result"
    }
   ],
   "source": [
    "# Question: Print or show only 3 decimal places of the numpy array rand_arr\n",
    "rand_arr = np.random.random((5,3))\n",
    "np.set_printoptions(precision=3)\n",
    "rand_arr"
   ]
  },
  {
   "cell_type": "markdown",
   "metadata": {},
   "source": [
    "## 22. How to pretty print a numpy array by suppressing the scientific notation (like 1e10)?"
   ]
  },
  {
   "cell_type": "code",
   "execution_count": 22,
   "metadata": {},
   "outputs": [
    {
     "name": "stdout",
     "output_type": "stream",
     "text": [
      "[[5.434e-04 2.784e-04 4.245e-04]\n",
      " [8.448e-04 4.719e-06 1.216e-04]\n",
      " [6.707e-04 8.259e-04 1.367e-04]]\n",
      "[[0.001 0.    0.   ]\n",
      " [0.001 0.    0.   ]\n",
      " [0.001 0.001 0.   ]]\n"
     ]
    }
   ],
   "source": [
    "# Pretty print rand_arr by suppressing the scientific notation (like 1e10)\n",
    "\n",
    "# Input: \n",
    "# Create the random array\n",
    "np.random.seed(100)\n",
    "rand_arr = np.random.random([3,3])/1e3\n",
    "np.set_printoptions(suppress=False)\n",
    "print(rand_arr)\n",
    "\n",
    "# Output:\n",
    "#> array([[ 0.000543,  0.000278,  0.000425],\n",
    "#>        [ 0.000845,  0.000005,  0.000122],\n",
    "#>        [ 0.000671,  0.000826,  0.000137]])\n",
    "\n",
    "np.set_printoptions(suppress=True)\n",
    "print(rand_arr)\n",
    "#> array([[ 0.000543,  0.000278,  0.000425],\n",
    "#>        [ 0.000845,  0.000005,  0.000122],\n",
    "#>        [ 0.000671,  0.000826,  0.000137]])"
   ]
  },
  {
   "cell_type": "markdown",
   "metadata": {},
   "source": [
    "## 23. How to limit the number of items printed in output of numpy array?"
   ]
  },
  {
   "cell_type": "code",
   "execution_count": 23,
   "metadata": {},
   "outputs": [
    {
     "data": {
      "text/plain": [
       "array([ 0,  1,  2, ..., 12, 13, 14], shape=(15,))"
      ]
     },
     "execution_count": 23,
     "metadata": {},
     "output_type": "execute_result"
    }
   ],
   "source": [
    "# Question: Limit the number of items printed in python numpy array a to a maximum of 6 elements.\n",
    "a = np.arange(15)\n",
    "np.set_printoptions(threshold=6)\n",
    "a"
   ]
  },
  {
   "cell_type": "markdown",
   "metadata": {},
   "source": [
    "## 24. How to print the full numpy array without truncating"
   ]
  },
  {
   "cell_type": "code",
   "execution_count": 24,
   "metadata": {},
   "outputs": [
    {
     "data": {
      "text/plain": [
       "array([ 0,  1,  2,  3,  4,  5,  6,  7,  8,  9, 10, 11, 12, 13, 14])"
      ]
     },
     "execution_count": 24,
     "metadata": {},
     "output_type": "execute_result"
    }
   ],
   "source": [
    "# Question: Print the full numpy array a without truncating.\n",
    "\n",
    "# Input: np.set_printoptions(threshold=6)\n",
    "# a = np.arange(15)\n",
    "# a\n",
    "\n",
    "# Output: a\n",
    "#> array([ 0,  1,  2,  3,  4,  5,  6,  7,  8,  9, 10, 11, 12, 13, 14])\n",
    "\n",
    "# Solution\n",
    "\n",
    "a = np.arange(15)\n",
    "\n",
    "np.set_printoptions(threshold=15)\n",
    "a"
   ]
  },
  {
   "cell_type": "markdown",
   "metadata": {},
   "source": [
    "## 25. How import a dataset with numbers and texts keeping the text intact in python numpy?"
   ]
  },
  {
   "cell_type": "code",
   "execution_count": 25,
   "metadata": {},
   "outputs": [
    {
     "data": {
      "text/plain": [
       "array([[b'1', b'5.1', b'3.5', b'1.4', b'0.2', b'Iris-setosa'],\n",
       "       [b'2', b'4.9', b'3.0', b'1.4', b'0.2', b'Iris-setosa'],\n",
       "       [b'3', b'4.7', b'3.2', b'1.3', b'0.2', b'Iris-setosa'],\n",
       "       ...,\n",
       "       [b'148', b'6.5', b'3.0', b'5.2', b'2.0', b'Iris-virginica'],\n",
       "       [b'149', b'6.2', b'3.4', b'5.4', b'2.3', b'Iris-virginica'],\n",
       "       [b'150', b'5.9', b'3.0', b'5.1', b'1.8', b'Iris-virginica']],\n",
       "      shape=(150, 6), dtype=object)"
      ]
     },
     "execution_count": 25,
     "metadata": {},
     "output_type": "execute_result"
    }
   ],
   "source": [
    "# How to import the iris dataset keeping the text intact\n",
    "\n",
    "# solution: \n",
    "iris_data = np.genfromtxt('./iris/Iris.csv', delimiter=',', skip_header=1, usecols=[0,1,2,3,4,5], dtype=object)\n",
    "iris_data"
   ]
  },
  {
   "cell_type": "markdown",
   "metadata": {},
   "source": [
    "## 26. How to extract a particular column from 1D array of tuples?"
   ]
  },
  {
   "cell_type": "code",
   "execution_count": 26,
   "metadata": {},
   "outputs": [
    {
     "data": {
      "text/plain": [
       "array([b'Iris-setosa', b'Iris-setosa', b'Iris-setosa', ...,\n",
       "       b'Iris-virginica', b'Iris-virginica', b'Iris-virginica'],\n",
       "      shape=(150,), dtype=object)"
      ]
     },
     "execution_count": 26,
     "metadata": {},
     "output_type": "execute_result"
    }
   ],
   "source": [
    "# Question: Extract the text column species from the 1D iris imported in previous question.\n",
    "\n",
    "data = np.genfromtxt('./iris/Iris.csv', delimiter=',', skip_header=1, usecols=[-1], dtype=object)\n",
    "data"
   ]
  },
  {
   "cell_type": "markdown",
   "metadata": {},
   "source": [
    "## 27. How to convert a 1d array of tuples to a 2d numpy array?"
   ]
  },
  {
   "cell_type": "code",
   "execution_count": 27,
   "metadata": {},
   "outputs": [
    {
     "data": {
      "text/plain": [
       "array([[  1. ,   5.1,   3.5,   1.4],\n",
       "       [  2. ,   4.9,   3. ,   1.4],\n",
       "       [  3. ,   4.7,   3.2,   1.3],\n",
       "       ...,\n",
       "       [148. ,   6.5,   3. ,   5.2],\n",
       "       [149. ,   6.2,   3.4,   5.4],\n",
       "       [150. ,   5.9,   3. ,   5.1]], shape=(150, 4))"
      ]
     },
     "execution_count": 27,
     "metadata": {},
     "output_type": "execute_result"
    }
   ],
   "source": [
    "# Question: Convert the 1D iris to 2D array iris_2d by omitting the species text field.\n",
    "iris_data = np.genfromtxt('./iris/Iris.csv', delimiter=',', skip_header=1, dtype='float', usecols=[0,1,2,3])\n",
    "iris_data"
   ]
  },
  {
   "cell_type": "markdown",
   "metadata": {},
   "source": [
    "## 28. How to compute the mean, median, standard deviation of a numpy array?"
   ]
  },
  {
   "cell_type": "code",
   "execution_count": 28,
   "metadata": {},
   "outputs": [
    {
     "name": "stdout",
     "output_type": "stream",
     "text": [
      "Mean 5.843333333333334\n",
      "Median 5.8\n",
      "Standard Deviation 0.8253012917851409\n"
     ]
    }
   ],
   "source": [
    "# Question: Find the mean, median, standard deviation of iris's sepallength (1st column)\n",
    "iris_data = np.genfromtxt('./iris/Iris.csv', delimiter=',', skip_header=1, usecols=[1])\n",
    "print('Mean', np.mean(iris_data))\n",
    "print('Median',np.median(iris_data))\n",
    "print('Standard Deviation',np.std(iris_data))"
   ]
  },
  {
   "cell_type": "markdown",
   "metadata": {},
   "source": [
    "## 29. How to normalize an array so the values range exactly between 0 and 1?"
   ]
  },
  {
   "cell_type": "code",
   "execution_count": 29,
   "metadata": {},
   "outputs": [
    {
     "data": {
      "text/plain": [
       "array([0.222, 0.167, 0.111, ..., 0.611, 0.528, 0.444], shape=(150,))"
      ]
     },
     "execution_count": 29,
     "metadata": {},
     "output_type": "execute_result"
    }
   ],
   "source": [
    "# Question: Create a normalized form of iris's sepallength whose values range exactly between 0 and 1 so that the minimum has value 0 and maximum has value 1.\n",
    "\n",
    "# Solution\n",
    "\n",
    "iris_data = np.genfromtxt('./iris/Iris.csv', delimiter=',', dtype='float', usecols=[1], skip_header=1)\n",
    "(iris_data - np.min(iris_data))/(np.max(iris_data) - np.min(iris_data))"
   ]
  },
  {
   "cell_type": "markdown",
   "metadata": {},
   "source": [
    "## 30. How to compute the softmax score?"
   ]
  },
  {
   "cell_type": "code",
   "execution_count": 30,
   "metadata": {},
   "outputs": [
    {
     "data": {
      "text/plain": [
       "array([0.002, 0.002, 0.001, ..., 0.009, 0.007, 0.005], shape=(150,))"
      ]
     },
     "execution_count": 30,
     "metadata": {},
     "output_type": "execute_result"
    }
   ],
   "source": [
    "# Question: Compute the softmax score of sepallength.\n",
    "\n",
    "iris_data = np.genfromtxt('./iris/Iris.csv', delimiter=',', dtype='float', usecols=[1], skip_header=1)\n",
    "softmax = np.exp(iris_data)/sum(np.exp(iris_data))\n",
    "softmax.sum() # it must sum 1\n",
    "softmax\n"
   ]
  },
  {
   "cell_type": "markdown",
   "metadata": {},
   "source": [
    "## 31. How to find the percentile scores of a numpy array?"
   ]
  },
  {
   "cell_type": "code",
   "execution_count": 31,
   "metadata": {},
   "outputs": [
    {
     "data": {
      "text/plain": [
       "array([4.6  , 7.255])"
      ]
     },
     "execution_count": 31,
     "metadata": {},
     "output_type": "execute_result"
    }
   ],
   "source": [
    "# Question. Find the 5th and 95th percentile of iris's sepallength\n",
    "iris_data = np.genfromtxt('./iris/Iris.csv', delimiter=',', dtype='float', usecols=[1], skip_header=1)\n",
    "np.percentile(iris_data, q=[5,95])"
   ]
  },
  {
   "cell_type": "markdown",
   "metadata": {},
   "source": [
    "## 32. How to insert values at random positions in an array?"
   ]
  },
  {
   "cell_type": "code",
   "execution_count": 32,
   "metadata": {},
   "outputs": [
    {
     "data": {
      "text/plain": [
       "array([5.1, 4.9, 4.7, ..., 6.5, 6.2, 5.9], shape=(150,))"
      ]
     },
     "execution_count": 32,
     "metadata": {},
     "output_type": "execute_result"
    }
   ],
   "source": [
    "# Question: Insert np.nan values at 20 random positions in iris_2d dataset\n",
    "\n",
    "iris_data = np.genfromtxt('./iris/Iris.csv', delimiter=',', dtype='float', usecols=[1], skip_header=1)\n",
    "for i in np.random.randint(0,len(iris_data), 20):\n",
    "    iris_data[i] = np.nan\n",
    "iris_data"
   ]
  },
  {
   "cell_type": "markdown",
   "metadata": {},
   "source": [
    "## 33. How to find the position of missing values in numpy array?"
   ]
  },
  {
   "cell_type": "code",
   "execution_count": 33,
   "metadata": {},
   "outputs": [
    {
     "name": "stdout",
     "output_type": "stream",
     "text": [
      "Numer of missing values in Iris Data: \n",
      " 20\n",
      "Number of missing values in any one feature of IriIris data: \n",
      " 5\n",
      "Position of missing vlaues: \n",
      " (array([ 38,  80, 106, 113, 121]),)\n"
     ]
    }
   ],
   "source": [
    "# Question: Find the number and position of missing values in iris_2d's sepallength (1st column)\n",
    "iris_data = np.genfromtxt('./iris/Iris.csv', delimiter=',', dtype='float', usecols=[1,2,3,4], skip_header=1)\n",
    "iris_data[np.random.randint(len(iris_data),size=20),np.random.randint(4,size=20)] = np.nan\n",
    "\n",
    "# Find total missing value in complete data\n",
    "print(\"Numer of missing values in Iris Data: \\n\", np.isnan(iris_data[:,:]).sum())\n",
    "\n",
    "# Find total missing value in complete data\n",
    "print(\"Number of missing values in any one feature of IriIris data: \\n\", np.isnan(iris_data[:,0]).sum())\n",
    "print(\"Position of missing vlaues: \\n\", np.where(np.isnan(iris_data[:,0])))"
   ]
  },
  {
   "cell_type": "markdown",
   "metadata": {},
   "source": [
    "## 34. How to filter a numpy array based on two or more conditions?"
   ]
  },
  {
   "cell_type": "code",
   "execution_count": 34,
   "metadata": {},
   "outputs": [
    {
     "data": {
      "text/plain": [
       "array([[4.8, 3.4, 1.6, 0.2],\n",
       "       [4.8, 3.4, 1.9, 0.2],\n",
       "       [4.7, 3.2, 1.6, 0.2],\n",
       "       [4.8, 3.1, 1.6, 0.2],\n",
       "       [4.9, 2.4, 3.3, 1. ],\n",
       "       [4.9, 2.5, 4.5, 1.7]], shape=(6, 4))"
      ]
     },
     "execution_count": 34,
     "metadata": {},
     "output_type": "execute_result"
    }
   ],
   "source": [
    "\n",
    "iris_data = np.genfromtxt('./iris/Iris.csv', delimiter=',', dtype='float', usecols=[1,2,3,4], skip_header=1)\n",
    "\n",
    "iris_data[(iris_data[:,2] > 1.5) & (iris_data[:, 0]< 5.0)]"
   ]
  },
  {
   "cell_type": "markdown",
   "metadata": {},
   "source": [
    "## 35. How to drop rows that contain a missing value from a numpy array?"
   ]
  },
  {
   "cell_type": "code",
   "execution_count": 35,
   "metadata": {},
   "outputs": [
    {
     "data": {
      "text/plain": [
       "array([[  1.   ,  85.   ,  66.   , ...,  26.6  ,   0.351,  31.   ],\n",
       "       [  8.   , 183.   ,  64.   , ...,  23.3  ,   0.672,  32.   ],\n",
       "       [  1.   ,  89.   ,  66.   , ...,  28.1  ,   0.167,  21.   ],\n",
       "       [  0.   , 137.   ,  40.   , ...,  43.1  ,   2.288,  33.   ],\n",
       "       [  3.   ,  78.   ,  50.   , ...,  31.   ,   0.248,  26.   ]],\n",
       "      shape=(5, 8))"
      ]
     },
     "execution_count": 35,
     "metadata": {},
     "output_type": "execute_result"
    }
   ],
   "source": [
    "# Question: Select the rows of iris_2d that does not have any nan value.\n",
    "diabetes_data = np.genfromtxt('./diabetes/diabetes.csv', delimiter=',', dtype='float', usecols=[0,1,2,3,4,5,6,7], skip_header=1)\n",
    "diabetes_data[np.random.randint(150, size=20), np.random.randint(4,size=20)] = np.nan\n",
    "diabetes_data[np.sum(np.isnan(diabetes_data), axis=1) == 0][:5]"
   ]
  },
  {
   "cell_type": "markdown",
   "metadata": {},
   "source": [
    "## 36. How to find the correlation between two columns of a numpy array?"
   ]
  },
  {
   "cell_type": "code",
   "execution_count": 36,
   "metadata": {},
   "outputs": [
    {
     "name": "stdout",
     "output_type": "stream",
     "text": [
      "[[1.    0.221]\n",
      " [0.221 1.   ]]\n",
      "\n",
      "\n",
      "0.2210710694589828\n"
     ]
    }
   ],
   "source": [
    "# question: Find the correlation between SepalLength(1st column) and PetalLength(3rd column) in iris_2d\n",
    "# insted or using iris data I am going to used pima diabetes data and going to find corelation between BP(1st column) and BMI (5th column).\n",
    "diabetes_data = np.genfromtxt('./diabetes/diabetes.csv', delimiter=',', dtype='float', usecols=[0,1,2,3,4,5,6,7], skip_header=1)\n",
    "\n",
    "print(np.corrcoef(diabetes_data[:, 1], diabetes_data[:, 5]))\n",
    "\n",
    "print('\\n')\n",
    "# You can get te correlation by getting value at index [0,1] or [1,0]\n",
    "\n",
    "print(np.corrcoef(diabetes_data[:,1], diabetes_data[:,5])[0,1])\n"
   ]
  },
  {
   "cell_type": "markdown",
   "metadata": {},
   "source": [
    "## 37. How to find if a given array has any null values?"
   ]
  },
  {
   "cell_type": "code",
   "execution_count": 37,
   "metadata": {},
   "outputs": [
    {
     "data": {
      "text/plain": [
       "np.False_"
      ]
     },
     "execution_count": 37,
     "metadata": {},
     "output_type": "execute_result"
    }
   ],
   "source": [
    "# question: Find out if iris_2d has any missing values.\n",
    "diabetes_data = np.genfromtxt('./diabetes/diabetes.csv', delimiter=',', dtype='float', usecols=[0,1,2,3,4,5,6,7], skip_header=1)\n",
    "np.isnan(diabetes_data).any()\n"
   ]
  },
  {
   "cell_type": "markdown",
   "metadata": {},
   "source": [
    "## 38. How to replace all missing values with 0 in a numpy array?"
   ]
  },
  {
   "cell_type": "code",
   "execution_count": 38,
   "metadata": {},
   "outputs": [
    {
     "name": "stdout",
     "output_type": "stream",
     "text": [
      "Does dataset have any Nan value: True\n",
      "Does dataset have any Nan value: False\n"
     ]
    }
   ],
   "source": [
    "# Question: Replace all ccurrences of nan with 0 in numpy array\n",
    "wine_quality = np.genfromtxt('./wine/winequality-red.csv',\n",
    "                             delimiter=',', dtype='float', usecols=[0,1,2,3,4,5,6,7,8,9,10], skip_header=1)\n",
    "wine_quality[np.random.randint(len(wine_quality), size=20),np.random.randint(11,size=20)] = np.nan\n",
    "\n",
    "print(\"Does dataset have any Nan value:\", np.isnan(wine_quality).any())\n",
    "\n",
    "wine_quality[np.isnan(wine_quality)] = 0\n",
    "\n",
    "print(\"Does dataset have any Nan value:\",np.isnan(wine_quality).any())"
   ]
  },
  {
   "cell_type": "markdown",
   "metadata": {},
   "source": [
    "## 39. How find the count of unique values in a numpy array?"
   ]
  },
  {
   "cell_type": "code",
   "execution_count": null,
   "metadata": {},
   "outputs": [
    {
     "data": {
      "text/plain": [
       "(array([b'e', b'p'], dtype=object), array([4208, 3916]))"
      ]
     },
     "execution_count": 39,
     "metadata": {},
     "output_type": "execute_result"
    }
   ],
   "source": [
    "# Question: Find the unique values and the count of unique values in mashroom data's habitat (22 column) column\n",
    "mushroom = np.genfromtxt('./mushroom/mushrooms.csv',\n",
    "                             delimiter=',', dtype=object, usecols=[0], skip_header=1)\n",
    "np.unique(mushroom, return_counts=True)"
   ]
  },
  {
   "cell_type": "markdown",
   "metadata": {},
   "source": [
    "## 40. How to convert a numeric to a categorial (text) array?"
   ]
  },
  {
   "cell_type": "code",
   "execution_count": 40,
   "metadata": {},
   "outputs": [
    {
     "data": {
      "text/plain": [
       "['small',\n",
       " 'small',\n",
       " 'small',\n",
       " 'small',\n",
       " 'small',\n",
       " 'small',\n",
       " 'small',\n",
       " 'small',\n",
       " 'small',\n",
       " 'small']"
      ]
     },
     "execution_count": 40,
     "metadata": {},
     "output_type": "execute_result"
    }
   ],
   "source": [
    "# Question: Bin the petal length (3rd) column of iris_2d to form a text array, such that if petal length is:\n",
    "\n",
    "# Less than 3 --> 'small'\n",
    "# 3-5 --> 'medium'\n",
    "# >=5 --> 'large'\n",
    "\n",
    "# Solution\n",
    "iris_data= np.genfromtxt('./iris/Iris.csv', delimiter=',', dtype=object, usecols=[3], skip_header=1)\n",
    "\n",
    "bins = np.array([0,3,5,7])\n",
    "inds = np.digitize(iris_data.astype('float'),bins)\n",
    "\n",
    "labels = {1:'small', 2:'medium', 3:'large'}\n",
    "iris_cat_data = [labels[x] for x in inds]\n",
    "iris_cat_data[:10]\n"
   ]
  },
  {
   "cell_type": "markdown",
   "metadata": {},
   "source": [
    "## 41. How to create a new column from exising columns of a numpy array?"
   ]
  },
  {
   "cell_type": "code",
   "execution_count": 41,
   "metadata": {},
   "outputs": [
    {
     "data": {
      "text/plain": [
       "array([[b'5.1', b'3.5', b'1.4', b'0.2', 38.13265162927291],\n",
       "       [b'4.9', b'3.0', b'1.4', b'0.2', 35.200498485922445],\n",
       "       [b'4.7', b'3.2', b'1.3', b'0.2', 30.0723720777127],\n",
       "       [b'4.6', b'3.1', b'1.5', b'0.2', 33.238050274980004]],\n",
       "      shape=(4, 5), dtype=object)"
      ]
     },
     "execution_count": 41,
     "metadata": {},
     "output_type": "execute_result"
    }
   ],
   "source": [
    "# Question: Create a new column for volume in iris_2d, where volume is (pi x petallength x sepal_length^2)/3\n",
    "iris_data = np.genfromtxt('./iris/Iris.csv', delimiter=',', \n",
    "                          dtype=object, usecols=[1,2,3,4], skip_header=1)\n",
    "\n",
    "sepallength = iris_data[:, 0].astype('float')\n",
    "petalllength = iris_data[:, 2].astype('float')\n",
    "\n",
    "new_column = (np.pi * petalllength * (sepallength**2))/3\n",
    "\n",
    "new_column = new_column[:,np.newaxis]\n",
    "\n",
    "# Add the new column\n",
    "out = np.hstack([iris_data, new_column])\n",
    "\n",
    "# view\n",
    "out[:4]"
   ]
  },
  {
   "cell_type": "markdown",
   "metadata": {},
   "source": [
    "## 42. How to do probabilistic sampling in numpy?"
   ]
  },
  {
   "cell_type": "code",
   "execution_count": 42,
   "metadata": {},
   "outputs": [
    {
     "name": "stdout",
     "output_type": "stream",
     "text": [
      "(array(['Iris-setosa', 'Iris-versicolor', 'Iris-virginica'], dtype='<U15'), array([49, 46, 55]))\n"
     ]
    }
   ],
   "source": [
    "# Question: Randomly sample iris's species such that setose is twice the number of versicolor and virginica\n",
    "\n",
    "iris_data = np.genfromtxt('./iris/Iris.csv', delimiter=',', \n",
    "                          dtype=object, usecols=[1,2,3,4], skip_header=1)\n",
    "\n",
    "np.random.seed(100)\n",
    "a = np.array(['Iris-setosa', 'Iris-versicolor', 'Iris-virginica'])\n",
    "species_out = np.random.choice(a, 150, [0.5,0.25,0.25])\n",
    "print(np.unique(species_out,return_counts=True))"
   ]
  },
  {
   "cell_type": "markdown",
   "metadata": {},
   "source": [
    "## 43. How to get the second largest value of an array when grouped by another way?"
   ]
  },
  {
   "cell_type": "code",
   "execution_count": 43,
   "metadata": {},
   "outputs": [
    {
     "data": {
      "text/plain": [
       "np.float64(110.0)"
      ]
     },
     "execution_count": 43,
     "metadata": {},
     "output_type": "execute_result"
    }
   ],
   "source": [
    "# Question: What is the value of second longest petallength of species setosa\n",
    "# For this question I am going to find second highest bloodpressure (2nd column) where outcome is 1\n",
    "diabetes_data = np.genfromtxt('./diabetes/diabetes.csv', delimiter=',', \n",
    "                          dtype=object, usecols=[0,1,2,3,4,5,6,7,8], skip_header=1)\n",
    "\n",
    "\n",
    "bloodpressure = diabetes_data[diabetes_data[:,8] == b'1', [2]].astype('float')\n",
    "\n",
    "np.unique(np.sort(bloodpressure))[-2]"
   ]
  },
  {
   "cell_type": "markdown",
   "metadata": {},
   "source": [
    "## 44. How to sort a 2S array by a column "
   ]
  },
  {
   "cell_type": "code",
   "execution_count": 44,
   "metadata": {},
   "outputs": [
    {
     "data": {
      "text/plain": [
       "array([[b'1', b'0', b'74', ..., b'0.299', b'21', b'0'],\n",
       "       [b'5', b'0', b'80', ..., b'0.346', b'37', b'1'],\n",
       "       [b'1', b'0', b'68', ..., b'0.389', b'22', b'0'],\n",
       "       ...,\n",
       "       [b'4', b'99', b'72', ..., b'0.294', b'28', b'0'],\n",
       "       [b'4', b'99', b'76', ..., b'0.223', b'21', b'0'],\n",
       "       [b'2', b'99', b'60', ..., b'0.453', b'21', b'0']],\n",
       "      shape=(768, 9), dtype=object)"
      ]
     },
     "execution_count": 44,
     "metadata": {},
     "output_type": "execute_result"
    }
   ],
   "source": [
    "# Question: Sort the iris dataset based on sepallength column.\n",
    "# In this problem, I am going to sort the diabetes dataset based on Glucose (1th column)\n",
    "\n",
    "diabetes_data = np.genfromtxt('./diabetes/diabetes.csv', delimiter=',', \n",
    "                          dtype=object, usecols=[0,1,2,3,4,5,6,7,8], skip_header=1)\n",
    "\n",
    "diabetes_data[diabetes_data[:,1].argsort()]"
   ]
  },
  {
   "cell_type": "markdown",
   "metadata": {},
   "source": [
    "# 45. HOw to find the most fequent value of numpy array?"
   ]
  },
  {
   "cell_type": "code",
   "execution_count": 45,
   "metadata": {},
   "outputs": [
    {
     "data": {
      "text/plain": [
       "b'1.5'"
      ]
     },
     "execution_count": 45,
     "metadata": {},
     "output_type": "execute_result"
    }
   ],
   "source": [
    "# Question: Find the most frequent value of petal length (3rd column) in iris dataset.\n",
    "\n",
    "iris_data = np.genfromtxt('./iris/Iris.csv', delimiter=',', \n",
    "                          dtype=object, usecols=[1,2,3,4,5], skip_header=1)\n",
    "\n",
    "v,c = np.unique(iris_data[:, 2], return_counts=True)\n",
    "\n",
    "v[np.argmax(c)]"
   ]
  },
  {
   "cell_type": "markdown",
   "metadata": {},
   "source": [
    "## 46. How to find the position of the first occurrence of a value greater than a given value?"
   ]
  },
  {
   "cell_type": "code",
   "execution_count": 46,
   "metadata": {},
   "outputs": [
    {
     "data": {
      "text/plain": [
       "array([50])"
      ]
     },
     "execution_count": 46,
     "metadata": {},
     "output_type": "execute_result"
    }
   ],
   "source": [
    "# Question: Find the position of the first occurrence of a value greater than 1.0 in \n",
    "# petalwidth 4th column of iris dataset.\n",
    "iris_data = np.genfromtxt('./iris/Iris.csv', delimiter=',', \n",
    "                          dtype=object, usecols=[4], skip_header=1)\n",
    "\n",
    "np.argwhere(iris_data[:].astype(float)> 1.0)[0]"
   ]
  },
  {
   "cell_type": "markdown",
   "metadata": {},
   "source": [
    "## 47. How to replace all values greater than a value to a given cutoff?"
   ]
  },
  {
   "cell_type": "code",
   "execution_count": 47,
   "metadata": {},
   "outputs": [
    {
     "data": {
      "text/plain": [
       "array([27.63, 14.64, 21.8 , 30.  , 10.  , 10.  , 30.  , 30.  , 10.  ,\n",
       "       29.18, 30.  , 11.25, 10.08, 10.  , 11.77, 30.  , 30.  , 10.  ,\n",
       "       30.  , 14.43])"
      ]
     },
     "execution_count": 47,
     "metadata": {},
     "output_type": "execute_result"
    }
   ],
   "source": [
    "# Question: From the array a, replace all values greater than 30 to 30 and less than 10 to 10.\n",
    "\n",
    "np.set_printoptions(precision=2)\n",
    "np.random.seed(100)\n",
    "a = np.random.uniform(1,50,20)\n",
    "\n",
    "a[a<10] = 10\n",
    "a[a>30] = 30\n",
    "np.set_printoptions(threshold=20)\n",
    "a"
   ]
  },
  {
   "cell_type": "markdown",
   "metadata": {},
   "source": [
    "## 48. How to get the positions of top n values from a numpy array?"
   ]
  },
  {
   "cell_type": "code",
   "execution_count": 48,
   "metadata": {},
   "outputs": [
    {
     "name": "stdout",
     "output_type": "stream",
     "text": [
      "[27.63 14.64 21.8  42.39  1.23  6.96 33.87 41.47  7.7  29.18 44.67 11.25\n",
      " 10.08  6.31 11.77 48.95 40.77  9.43 41.   14.43]\n",
      "Positions [15 10  3  7 18]\n",
      "Values [48.95 44.67 42.39 41.47 41.  ]\n"
     ]
    }
   ],
   "source": [
    "# Question: Get the positions of top 5 maximum values in a given array a.\n",
    "np.random.seed(100)\n",
    "a = np.random.uniform(1,50,20)\n",
    "print(a)\n",
    "sort = a.argsort()\n",
    "print('Positions',sort[-5:][::-1])\n",
    "\n",
    "print('Values',a[sort][-5:][::-1])\n"
   ]
  },
  {
   "cell_type": "markdown",
   "metadata": {},
   "source": [
    "## 49. How to compute the row wise counts of all possible values in an array?"
   ]
  },
  {
   "cell_type": "code",
   "execution_count": 49,
   "metadata": {},
   "outputs": [
    {
     "name": "stdout",
     "output_type": "stream",
     "text": [
      "[[ 9  9  4 ...  3  6  3]\n",
      " [ 3  3  2 ... 10  7  3]\n",
      " [ 5  2  6 ...  8  2  2]\n",
      " [ 8  8  1 ...  3  6  9]\n",
      " [ 2  1  8 ...  3  6  2]\n",
      " [ 9  2  6 ...  6  1 10]]\n",
      "[ 1  2  3  4  5  6  7  8  9 10]\n"
     ]
    },
    {
     "name": "stderr",
     "output_type": "stream",
     "text": [
      "/tmp/ipykernel_26491/4275189559.py:8: DeprecationWarning: Conversion of an array with ndim > 0 to a scalar is deprecated, and will error in future. Ensure you extract a single element from your array before performing this operation. (Deprecated NumPy 1.25.)\n",
      "  return([[int(b[a==i]) if i in a else 0 for i in np.unique(arr2d)] for a , b in num_counts_array])\n"
     ]
    },
    {
     "data": {
      "text/plain": [
       "[[1, 0, 2, 1, 1, 1, 0, 2, 2, 0],\n",
       " [2, 1, 3, 0, 1, 0, 1, 0, 1, 1],\n",
       " [0, 3, 0, 2, 3, 1, 0, 1, 0, 0],\n",
       " [1, 0, 2, 1, 0, 1, 0, 2, 1, 2],\n",
       " [2, 2, 2, 0, 0, 1, 1, 1, 1, 0],\n",
       " [1, 1, 1, 1, 1, 2, 0, 0, 2, 1]]"
      ]
     },
     "execution_count": 49,
     "metadata": {},
     "output_type": "execute_result"
    }
   ],
   "source": [
    "# Question: Compute the counts of unique values row-wise.\n",
    "\n",
    "def count_of_all_values_rowwise(arr2d):\n",
    "    # Unique values and its counts row wise\n",
    "    num_counts_array = [np.unique(row, return_counts=True) for row in arr2d]\n",
    "\n",
    "    # counts of all values row wise \n",
    "    return([[int(b[a==i]) if i in a else 0 for i in np.unique(arr2d)] for a , b in num_counts_array])\n",
    "\n",
    "np.random.seed(100)\n",
    "np.set_printoptions(threshold=10)\n",
    "arr = np.random.randint(1,11,size = (6,10))\n",
    "print(arr)\n",
    "print(np.arange(1,11))\n",
    "count_of_all_values_rowwise(arr)\n"
   ]
  },
  {
   "cell_type": "markdown",
   "metadata": {},
   "source": [
    "## 50. How to convert an array of arrays into a flat 1d arrray?"
   ]
  },
  {
   "cell_type": "code",
   "execution_count": 50,
   "metadata": {},
   "outputs": [
    {
     "name": "stdout",
     "output_type": "stream",
     "text": [
      "[0 1 2 3 4 5 6 7 8 9]\n"
     ]
    }
   ],
   "source": [
    "# Question: Convert array_of_arrays into a flat linear 1d array.\n",
    "\n",
    "arr1 = np.arange(3)\n",
    "arr2 = np.arange(3,7)\n",
    "arr3 = np.arange(7,10)\n",
    "\n",
    "arr_2d = np.concatenate([arr1, arr2, arr3])\n",
    "print(arr_2d)"
   ]
  }
 ],
 "metadata": {
  "kernelspec": {
   "display_name": "myenv",
   "language": "python",
   "name": "python3"
  },
  "language_info": {
   "codemirror_mode": {
    "name": "ipython",
    "version": 3
   },
   "file_extension": ".py",
   "mimetype": "text/x-python",
   "name": "python",
   "nbconvert_exporter": "python",
   "pygments_lexer": "ipython3",
   "version": "3.12.7"
  }
 },
 "nbformat": 4,
 "nbformat_minor": 2
}
