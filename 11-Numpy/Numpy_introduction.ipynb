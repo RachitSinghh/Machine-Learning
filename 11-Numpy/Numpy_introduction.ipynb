{
 "cells": [
  {
   "cell_type": "markdown",
   "metadata": {},
   "source": [
    "# Introduction \n",
    "- Numpy is a python library for creating and manipulating matrices, the main data structure used by ML algorithms. Matrices are mathematical objects used to store values in rows and columns\n",
    "\n",
    "- python calls matrices <i>lists</i>, NumPy calls them <i>arrays</i> and TensorFlow calls them <i>tensors</i>. Python represents matrices with the list data type."
   ]
  },
  {
   "cell_type": "code",
   "execution_count": 2,
   "metadata": {},
   "outputs": [],
   "source": [
    "# Import numpy module\n",
    "import numpy as np"
   ]
  },
  {
   "cell_type": "markdown",
   "metadata": {},
   "source": [
    "# Populate arrays with specific numbers\n",
    "\n",
    "Call \"np.array\" to create a NumPy array with your own hand-picked values. For example, the following call to \"np.array\" creates and 8-element array:"
   ]
  },
  {
   "cell_type": "code",
   "execution_count": 3,
   "metadata": {},
   "outputs": [
    {
     "name": "stdout",
     "output_type": "stream",
     "text": [
      "[1.2 2.4 3.5 4.7 6.1 7.2 8.3 9.5]\n"
     ]
    }
   ],
   "source": [
    "one_dimensional_array = np.array([1.2,2.4,3.5,4.7,6.1, 7.2, 8.3, 9.5])\n",
    "print(one_dimensional_array)"
   ]
  },
  {
   "cell_type": "markdown",
   "metadata": {},
   "source": [
    "You can also use np.array to create a two-dimensional array. To create a two-dimensional arrray specify an extra layer of square brackets. For example the following call creates a 3X2 array:"
   ]
  },
  {
   "cell_type": "code",
   "execution_count": 4,
   "metadata": {},
   "outputs": [
    {
     "name": "stdout",
     "output_type": "stream",
     "text": [
      "[[ 6  5]\n",
      " [11  7]\n",
      " [ 4  8]]\n"
     ]
    }
   ],
   "source": [
    "two_dimensional_array = np.array([[6,5],[11,7],[4,8]])\n",
    "print(two_dimensional_array)"
   ]
  },
  {
   "cell_type": "markdown",
   "metadata": {},
   "source": [
    "To populate an array with all zeros, call [np.zeros]. To popluate an array with all ones, call [np.ones].\n",
    "\n",
    "# Popluate arrays with sequence of numbers:\n",
    "\n",
    "- You can populate an array with a sequence of numbers: "
   ]
  },
  {
   "cell_type": "code",
   "execution_count": 17,
   "metadata": {},
   "outputs": [
    {
     "name": "stdout",
     "output_type": "stream",
     "text": [
      "[ 5  6  7  8  9 10 11]\n",
      "[[0. 0. 0. 0. 0. 0. 0. 0. 0. 0.]\n",
      " [0. 0. 0. 0. 0. 0. 0. 0. 0. 0.]]\n",
      "[[1. 1. 1. 1. 1. 1. 1. 1. 1. 1.]\n",
      " [1. 1. 1. 1. 1. 1. 1. 1. 1. 1.]]\n"
     ]
    }
   ],
   "source": [
    "sequence_of_integers = np.arange(5,12)\n",
    "all_zeros = np.zeros([2, 10])\n",
    "all_ones = np.ones([2,10])\n",
    "print(sequence_of_integers)\n",
    "print(all_zeros)\n",
    "print(all_ones)"
   ]
  },
  {
   "cell_type": "markdown",
   "metadata": {},
   "source": [
    "[np.arange] generates a sequence that includes the lower bound(5) but not the upper bound(12)."
   ]
  },
  {
   "cell_type": "markdown",
   "metadata": {},
   "source": [
    "# Populate arrays with random numbers\n",
    "\n",
    "NumPy provides various functions to populate arrays with random number across certain ranges. For example, [np.random.randint] generate random intergers between a low and high value. The following call populates a 6-element array with random integers between 50 and 100."
   ]
  },
  {
   "cell_type": "code",
   "execution_count": 10,
   "metadata": {},
   "outputs": [
    {
     "name": "stdout",
     "output_type": "stream",
     "text": [
      "[50 82 97 51 98 98]\n"
     ]
    }
   ],
   "source": [
    "random_integers_between_50_and_100 = np.random.randint(low=50, high=101, size=(6))\n",
    "print(random_integers_between_50_and_100)"
   ]
  },
  {
   "cell_type": "markdown",
   "metadata": {},
   "source": [
    "Note that the highest generated interger <b>np.random.randing</b> in one less than <b>high</b>argument."
   ]
  },
  {
   "cell_type": "markdown",
   "metadata": {},
   "source": [
    "To create a random floating-point values between 0.0 and 1.0, call <b>np.random.uniform</b>  and <b>np.random.random</b>"
   ]
  },
  {
   "cell_type": "code",
   "execution_count": 27,
   "metadata": {},
   "outputs": [
    {
     "name": "stdout",
     "output_type": "stream",
     "text": [
      "[8.70942956 7.30005694 5.99929329 7.3705644  9.49832931 6.31618872]\n",
      "[0.54409191 0.18741709 0.37381037 0.75184172 0.37269326 0.68418298]\n"
     ]
    }
   ],
   "source": [
    "# random_floating_point_numbers = np.random.uniform(low=5, high=10, size=(6))\n",
    "# print(random_floating_point_numbers)\n",
    "random_floats_between_0_1 = np.random.random((6,))\n",
    "print(random_floats_between_0_1)"
   ]
  },
  {
   "cell_type": "markdown",
   "metadata": {},
   "source": [
    "# Mathematical operation on NumPy Operands\n",
    "\n",
    "If you want to add or subtract two arrays, linear algebra requires that two operands have the same dimensions. Furthermore, if you want to multiple two arrays, linear algebra imposes strict rules on the dimensional compatibility of operands. Fortunately, Numpy uses a trick called <a href=\"https://developers.google.com/machine-learning/glossary/#broadcasting\">brodcasting</a> to virtually expand the smaller operand to dimensions compatible for linear algebra. For example, the following operations uses broadcasting to add 2.0 to the value of every item in the array created in the previous code cell. "
   ]
  },
  {
   "cell_type": "code",
   "execution_count": 29,
   "metadata": {},
   "outputs": [
    {
     "name": "stdout",
     "output_type": "stream",
     "text": [
      "[2.54409191 2.18741709 2.37381037 2.75184172 2.37269326 2.68418298]\n"
     ]
    }
   ],
   "source": [
    "random_floats_between_2_and_3 = random_floats_between_0_1 + 2.0\n",
    "print(random_floats_between_2_and_3)"
   ]
  },
  {
   "cell_type": "markdown",
   "metadata": {},
   "source": [
    "The following operation also relies on broadcasting to multiple each cell in an array by 3: "
   ]
  },
  {
   "cell_type": "code",
   "execution_count": 30,
   "metadata": {},
   "outputs": [
    {
     "name": "stdout",
     "output_type": "stream",
     "text": [
      "[150 246 291 153 294 294]\n"
     ]
    }
   ],
   "source": [
    "random_integers_between_150_and_300 = random_integers_between_50_and_100 * 3\n",
    "print(random_integers_between_150_and_300)"
   ]
  },
  {
   "cell_type": "markdown",
   "metadata": {},
   "source": [
    "# Task 1: Create a Linear Dataset\n",
    "\n",
    "Goal is to create a simple dataset consisting of a single feature and a label as follows:\n",
    "\n",
    "1. Assign a sequence of integers from 6 to 20(inclusive) to a NumPy array named `Feature`.\n",
    "2. Assign 15 values to a NumPy array names `Label` such that\n",
    "\n",
    "```\n",
    "label = (3)(feature) + 4\n",
    "```\n",
    "For example, the first value for `label` should be:\n",
    "\n",
    "```\n",
    "label = (3)(6) + 4 = 22\n",
    "```\n"
   ]
  },
  {
   "cell_type": "code",
   "execution_count": 36,
   "metadata": {},
   "outputs": [
    {
     "name": "stdout",
     "output_type": "stream",
     "text": [
      "[ 6  7  8  9 10 11 12 13 14 15 16 17 18 19 20]\n",
      "[22 25 28 31 34 37 40 43 46 49 52 55 58 61 64]\n",
      "22\n"
     ]
    }
   ],
   "source": [
    "feature = np.arange(6,21)\n",
    "print(feature)\n",
    "label = (feature * 3) + 4\n",
    "print(label)\n"
   ]
  },
  {
   "cell_type": "markdown",
   "metadata": {},
   "source": [
    "# Task 2: Add some noise to the Dataet"
   ]
  },
  {
   "cell_type": "markdown",
   "metadata": {},
   "source": [
    "To make dataset a little more realistic, insert a little random noise into each element of the label array you already created. To bemore precise, modify each value assignet  to `label` by adding a different random floating-point value between -2 and +2. "
   ]
  },
  {
   "cell_type": "code",
   "execution_count": 38,
   "metadata": {},
   "outputs": [
    {
     "name": "stdout",
     "output_type": "stream",
     "text": [
      "[-0.29240036  1.67280991 -0.36229437  0.11662891 -0.2045169  -0.70147784\n",
      "  1.18674908  0.46910767 -1.05151931  1.46572746 -1.02070357 -1.51573599\n",
      " -1.12235933 -0.87430868 -1.27603534]\n",
      "[21.70759964 26.67280991 27.63770563 31.11662891 33.7954831  36.29852216\n",
      " 41.18674908 43.46910767 44.94848069 50.46572746 50.97929643 53.48426401\n",
      " 56.87764067 60.12569132 62.72396466]\n"
     ]
    }
   ],
   "source": [
    "noise  = (np.random.random([15]) * 4) - 2\n",
    "print(noise)\n",
    "label = label + noise\n",
    "print(label)"
   ]
  }
 ],
 "metadata": {
  "kernelspec": {
   "display_name": "Python 3",
   "language": "python",
   "name": "python3"
  },
  "language_info": {
   "codemirror_mode": {
    "name": "ipython",
    "version": 3
   },
   "file_extension": ".py",
   "mimetype": "text/x-python",
   "name": "python",
   "nbconvert_exporter": "python",
   "pygments_lexer": "ipython3",
   "version": "3.12.0"
  }
 },
 "nbformat": 4,
 "nbformat_minor": 2
}
