{
 "cells": [
  {
   "cell_type": "markdown",
   "metadata": {},
   "source": []
  },
  {
   "cell_type": "markdown",
   "metadata": {},
   "source": [
    "# Real-world Examples using lists in python\n",
    "\n",
    "Lists are one of the most commonly used data structures in Python, thank to their versatility and ease of use. "
   ]
  },
  {
   "cell_type": "markdown",
   "metadata": {},
   "source": [
    "# Example 1. Manage a To-Do List\n",
    "\n",
    "    - Create a To Do List to Keep Track of Tasks"
   ]
  },
  {
   "cell_type": "code",
   "execution_count": 6,
   "metadata": {},
   "outputs": [
    {
     "name": "stdout",
     "output_type": "stream",
     "text": [
      "To Do List remaining\n",
      "-Buy Groceries\n",
      "-Pay Bills\n",
      "-Schedule meeting\n",
      "-Go for a run\n"
     ]
    }
   ],
   "source": [
    "to_do_list = [\"Buy Groceries\", \"Clean the House\", \"Pay Bills\"]\n",
    "\n",
    "## Adding To task \n",
    "to_do_list.append(\"Schedule meeting\")\n",
    "to_do_list.append(\"Go for a run\")\n",
    "\n",
    "## Removing a completed task \n",
    "to_do_list.remove(\"Clean the House\")\n",
    "\n",
    "## checking if a task is in the list \n",
    "\n",
    "if \"Pay bills\" in to_do_list:\n",
    "    print(\"Don't forget to pay the utility bills\")\n",
    "\n",
    "print(\"To Do List remaining\")\n",
    "for task in to_do_list:\n",
    "    print(f\"-{task}\")"
   ]
  },
  {
   "cell_type": "markdown",
   "metadata": {},
   "source": [
    "# Example 2: Organizing Student grades\n",
    "    \n",
    "    - Create a list to store and calculate average grades for students "
   ]
  },
  {
   "cell_type": "code",
   "execution_count": 7,
   "metadata": {},
   "outputs": [
    {
     "name": "stdout",
     "output_type": "stream",
     "text": [
      "Average Grade: 88.00\n",
      "Highest Grade: 95\n",
      "Lowest Grade: 78\n"
     ]
    }
   ],
   "source": [
    "# Organizing student grades \n",
    "grades = [85, 92, 78, 90, 88]\n",
    "\n",
    "# Adding a new grade \n",
    "grades.append(95)\n",
    "\n",
    "# Calculating the average grade \n",
    "average_grade = sum(grades) / len(grades)\n",
    "print(f\"Average Grade: {average_grade:.2f}\")\n",
    "\n",
    "# Finding the highest and lowest grades \n",
    "\n",
    "highest_grade = max(grades)\n",
    "lowest_grade = min(grades)\n",
    "print(f\"Highest Grade: {highest_grade}\")\n",
    "print(f\"Lowest Grade: {lowest_grade}\")"
   ]
  },
  {
   "cell_type": "markdown",
   "metadata": {},
   "source": [
    "# Example 3: Managing An Inventory \n",
    "    \n",
    "    - Use a list to manage inventory items in a store"
   ]
  },
  {
   "cell_type": "code",
   "execution_count": 10,
   "metadata": {},
   "outputs": [
    {
     "name": "stdout",
     "output_type": "stream",
     "text": [
      "oranges are in stock\n",
      "Inventory list: \n",
      "-apples\n",
      "-oranges\n",
      "-grapes\n",
      "-Strawaberries\n"
     ]
    }
   ],
   "source": [
    "# Managing an inventory \n",
    "inventory = ['apples', 'bananas',\"oranges\", \"grapes\"]\n",
    "\n",
    "# Adding a new item \n",
    "inventory.append(\"Strawaberries\")\n",
    "\n",
    "# Removing an item that is oput of stock \n",
    "inventory.remove(\"bananas\")\n",
    "\n",
    "# checking if an item is in stock\n",
    "item = input(\"What do you want\").lower()\n",
    "\n",
    "if item in inventory:\n",
    "    print(f\"{item} are in stock\")\n",
    "else:\n",
    "    print(f\"{item} are out of stock\")\n",
    "\n",
    "print(\"Inventory list: \")\n",
    "for item in inventory:\n",
    "    print(f\"-{item}\")"
   ]
  },
  {
   "cell_type": "markdown",
   "metadata": {},
   "source": [
    "# Example 4 : collecting feedback \n",
    "\n",
    "    - Use a list to collect and analyze user feedback\n"
   ]
  },
  {
   "cell_type": "code",
   "execution_count": 11,
   "metadata": {},
   "outputs": [
    {
     "name": "stdout",
     "output_type": "stream",
     "text": [
      "Positive Feedback Count: 2\n",
      "User Feedback: \n",
      "- Great Service!\n",
      "- Very Satisfied\n",
      "- Could be better\n",
      "- Excellent experience\n",
      "- Not Happy with the service\n"
     ]
    }
   ],
   "source": [
    "# collecting user feedback\n",
    "feedback = [\"Great Service!\", \"Very Satisfied\", \"Could be better\", \"Excellent experience\"]\n",
    "\n",
    "# Adding new feedback \n",
    "feedback.append(\"Not Happy with the service\")\n",
    "\n",
    "positive_feedback_count = sum (1 for comment in feedback if \"great\" in comment.lower() or \"excellent\" in comment.lower())\n",
    "print(f\"Positive Feedback Count: {positive_feedback_count}\")\n",
    "\n",
    "# Printing all feedback \n",
    "print(\"User Feedback: \")\n",
    "for comment in feedback:\n",
    "    print(f\"- {comment}\")"
   ]
  }
 ],
 "metadata": {
  "kernelspec": {
   "display_name": "Python 3",
   "language": "python",
   "name": "python3"
  },
  "language_info": {
   "codemirror_mode": {
    "name": "ipython",
    "version": 3
   },
   "file_extension": ".py",
   "mimetype": "text/x-python",
   "name": "python",
   "nbconvert_exporter": "python",
   "pygments_lexer": "ipython3",
   "version": "3.12.7"
  }
 },
 "nbformat": 4,
 "nbformat_minor": 2
}
