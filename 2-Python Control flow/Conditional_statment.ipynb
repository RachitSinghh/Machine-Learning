{
 "cells": [
  {
   "cell_type": "markdown",
   "metadata": {},
   "source": [
    "# Introduction to conditional statments\n",
    "1. if statments\n",
    "    - If statment evaluates a condition and executes the block of code within it.\n",
    "2. else statments\n",
    "    - the else statment executes a block of code if the condition in the if statement is False\n",
    "3. elif statments\n",
    "    - The elif statement allows you to check multiple conditions. It stands for \"else if\"\n",
    "4. Nested conditional statments\n",
    "    - you can place one or more if Elif or else statement insdie another if elif or else statement to create nested conditional statements"
   ]
  },
  {
   "cell_type": "code",
   "execution_count": 3,
   "metadata": {},
   "outputs": [
    {
     "name": "stdout",
     "output_type": "stream",
     "text": [
      "You're still underage\n"
     ]
    }
   ],
   "source": [
    "# if statment \n",
    "age = 12\n",
    "\n",
    "if age >=20:\n",
    "    print(\"You are allowed to vote in the elections\")\n",
    "\n",
    "print(\"You're still underage\")"
   ]
  },
  {
   "cell_type": "code",
   "execution_count": 11,
   "metadata": {},
   "outputs": [
    {
     "name": "stdout",
     "output_type": "stream",
     "text": [
      "You're a minor\n"
     ]
    }
   ],
   "source": [
    "# else\n",
    "\n",
    "age = 12\n",
    "\n",
    "if age >= 18:\n",
    "    print(\"You're eligbile for voting\")\n",
    "else:\n",
    "    print(\"You're a minor\")"
   ]
  },
  {
   "cell_type": "code",
   "execution_count": 14,
   "metadata": {},
   "outputs": [
    {
     "name": "stdout",
     "output_type": "stream",
     "text": [
      "You're a teenager\n"
     ]
    }
   ],
   "source": [
    "## elif\n",
    "age = 15\n",
    "if age<13:\n",
    "    print(\"You're a child\")\n",
    "elif age<18:\n",
    "    print(\"You're a teenager\")\n",
    "else:\n",
    "    print(\"You're an adult\")"
   ]
  },
  {
   "cell_type": "code",
   "execution_count": 17,
   "metadata": {},
   "outputs": [
    {
     "name": "stdout",
     "output_type": "stream",
     "text": [
      "The number is zero or negative\n"
     ]
    }
   ],
   "source": [
    "## nested conditional statement\n",
    "## number even, odd , negative\n",
    "\n",
    "number = int(input(\"Enter the number: \"))\n",
    "\n",
    "if number>0:\n",
    "    print(\"The number is positive & \")\n",
    "    if number%2==0:\n",
    "        print(\"The number is Even\")\n",
    "    else: \n",
    "        print(\"The number is odd\")\n",
    "    \n",
    "else: \n",
    "    print(\"The number is zero or negative\")\n"
   ]
  },
  {
   "cell_type": "code",
   "execution_count": 21,
   "metadata": {},
   "outputs": [
    {
     "name": "stdout",
     "output_type": "stream",
     "text": [
      "2023 is not a leap year\n"
     ]
    }
   ],
   "source": [
    "## Usecases\n",
    "\n",
    "## Determine if a year is a leap year using nested conditional statement \n",
    "\n",
    "year = int(input(\"Enter the year\"))\n",
    "\n",
    "if(year%4 == 0):\n",
    "    if(year%100 == 0):\n",
    "        if(year%400==0):\n",
    "            print(year, \" is a leap year\")\n",
    "        else:\n",
    "            print(year, \"this year is not a leap year\")\n",
    "    else:\n",
    "        print(year,\" year is a leap year\")\n",
    "else:\n",
    "    print(year, \"is not a leap year\")\n"
   ]
  },
  {
   "cell_type": "code",
   "execution_count": null,
   "metadata": {},
   "outputs": [
    {
     "name": "stdout",
     "output_type": "stream",
     "text": [
      "Result:  1\n"
     ]
    }
   ],
   "source": [
    "## Assignment \n",
    "## Simple calculator program \n",
    "\n",
    "num1 = float(input(\"Enter the first number: \"))\n",
    "num2 = float(input(\"Enter the second number: \"))\n",
    "operation = input(\"Enter operation (+, -, /, *, ): \")\n",
    "\n",
    "if operation == '+':\n",
    "    result = num1 + num2\n",
    "elif operation == '-':\n",
    "    result = num1 - num2\n",
    "elif operation == '*':\n",
    "    result = num1 * num2\n",
    "elif operation == '/':\n",
    "    if num2 != 0:\n",
    "        result = num1 / num2\n",
    "    else:\n",
    "        result = \"Error ! division by zero\"\n",
    "else: \n",
    "    result = \"Invalid operation\"\n",
    "\n",
    "print(\"Result: \", round(result))\n"
   ]
  },
  {
   "cell_type": "code",
   "execution_count": 26,
   "metadata": {},
   "outputs": [
    {
     "name": "stdout",
     "output_type": "stream",
     "text": [
      "Ticket price:  $20\n"
     ]
    }
   ],
   "source": [
    "### Determine the ticket price based on age and whether the person is a student.\n",
    "\n",
    "# ticket pricing based on age adn student status\n",
    "age = int(input(\"Enter your age: \"))\n",
    "is_student = input(\"Are you student? (Yes / No): \").lower()\n",
    "\n",
    "# Determine ticket price \n",
    "\n",
    "if age < 5: \n",
    "    price = \"Free\"\n",
    "elif age <= 12:\n",
    "    price = \"$10\"\n",
    "elif age <= 17:\n",
    "    if is_student == \"yes\":\n",
    "        price = \"$12\"\n",
    "    else:\n",
    "        price = \"$15\"\n",
    "elif age <= 64:\n",
    "    if is_student == \"yes\":\n",
    "        price = \"$18\"\n",
    "    else:\n",
    "        price = \"$20\"\n",
    "\n",
    "print(\"Ticket price: \", price)"
   ]
  }
 ],
 "metadata": {
  "kernelspec": {
   "display_name": "Python 3",
   "language": "python",
   "name": "python3"
  },
  "language_info": {
   "codemirror_mode": {
    "name": "ipython",
    "version": 3
   },
   "file_extension": ".py",
   "mimetype": "text/x-python",
   "name": "python",
   "nbconvert_exporter": "python",
   "pygments_lexer": "ipython3",
   "version": "3.12.0"
  }
 },
 "nbformat": 4,
 "nbformat_minor": 2
}
